{
 "cells": [
  {
   "cell_type": "code",
   "execution_count": 1,
   "metadata": {},
   "outputs": [
    {
     "data": {
      "text/html": [
       "<style>#notebook { padding-top:0px !important; } .container { width:100% !important; } .end_space { min-height:0px !important; } </style>"
      ],
      "text/plain": [
       "<IPython.core.display.HTML object>"
      ]
     },
     "metadata": {},
     "output_type": "display_data"
    }
   ],
   "source": [
    "# %load startup\n",
    "import numpy as np\n",
    "from pathlib import Path\n",
    "import time\n",
    "\n",
    "from IPython.core.display import display, HTML\n",
    "display(HTML(\"<style>\"\n",
    "             + \"#notebook { padding-top:0px !important; } \"\n",
    "             + \".container { width:100% !important; } \"\n",
    "             + \".end_space { min-height:0px !important; } \"\n",
    "             + \"</style>\"))\n",
    "\n",
    "import matplotlib.pyplot as plt\n",
    "plt.rcParams['figure.figsize'] = (10.0, 8.0) # set default size of plots\n",
    "plt.rcParams['image.interpolation'] = 'nearest'\n",
    "plt.rcParams['image.cmap'] = 'gray'\n",
    "\n",
    "import pandas as pd\n",
    "pd.options.display.max_colwidth = 100\n",
    "pd.options.display.precision = 2\n",
    "\n",
    "import pprint\n",
    "pp = pprint.PrettyPrinter(indent=4, width=100)\n",
    "\n",
    "import logging\n",
    "logging.basicConfig(level=logging.INFO, format='%(asctime)s %(module)s:%(lineno)d %(funcName)s %(levelname)s %(message)s')"
   ]
  },
  {
   "cell_type": "code",
   "execution_count": 5,
   "metadata": {},
   "outputs": [],
   "source": [
    "from model_config import ModelConfig\n",
    "\n",
    "def show_result(game_result_path):\n",
    "    game_result_path = Path(game_result_path)\n",
    "    for i, csv_file in enumerate(game_result_path.glob('*.csv')):\n",
    "        game_number = csv_file.stem.split('_')[1]\n",
    "        game_result_pd = pd.read_csv(csv_file)\n",
    "        print(game_result_pd.describe())\n",
    "        rewards = game_result_pd['reward'].values\n",
    "        win_rate = np.sum(rewards>0)/len(rewards) \n",
    "        median_time = np.median(game_result_pd['time'].values)\n",
    "        game_config_file = game_result_path/f'config_{game_number}.yaml'\n",
    "        if game_config_file.exists():\n",
    "            config = ModelConfig.from_yaml(game_config_file)\n",
    "            print(f'{game_number}: black win rate={win_rate}, '\n",
    "                  f'num_games={len(game_result_pd)}, '\n",
    "                  f'time/game={median_time:.3f}, '\n",
    "                  f'rollout={config.mcts_num_rollout}, '\n",
    "                  f'komi={config.komi}')\n",
    "        else:\n",
    "            print(f'{game_number}: black win rate={win_rate}, '\n",
    "                  f'num_games={len(game_result_pd)}, '\n",
    "                  f'time/game={median_time:.3f}')"
   ]
  },
  {
   "cell_type": "code",
   "execution_count": 15,
   "metadata": {},
   "outputs": [
    {
     "name": "stdout",
     "output_type": "stream",
     "text": [
      "2: black win rate=0.766, num_games=1000, time/game=0.002, rollout=1000, komi=0\n",
      "1: black win rate=0.45, num_games=100, time/game=0.002\n"
     ]
    }
   ],
   "source": [
    "show_result('/home/peng_liu/src/tmp/game_result/random_vs_random/')"
   ]
  },
  {
   "cell_type": "code",
   "execution_count": 17,
   "metadata": {},
   "outputs": [
    {
     "name": "stdout",
     "output_type": "stream",
     "text": [
      "2: black win rate=0.763, num_games=1000, time/game=0.090, rollout=1000, komi=0\n",
      "1: black win rate=0.157, num_games=1000, time/game=0.365\n"
     ]
    }
   ],
   "source": [
    "show_result('/home/peng_liu/src/tmp/game_result/nn_vs_random/')"
   ]
  },
  {
   "cell_type": "code",
   "execution_count": 6,
   "metadata": {},
   "outputs": [
    {
     "name": "stdout",
     "output_type": "stream",
     "text": [
      "       Unnamed: 0     plys   reward    score     time\n",
      "count     1000.00  1000.00  1000.00  1000.00  1000.00\n",
      "mean       499.50    47.85     0.92    -7.08    20.13\n",
      "std        288.82    30.63     0.40    10.83     8.64\n",
      "min          0.00     0.00    -1.00   -81.00     1.37\n",
      "25%        249.75    21.00     1.00   -10.00    13.43\n",
      "50%        499.50    45.00     1.00    -3.00    22.14\n",
      "75%        749.25    73.00     1.00    -1.00    27.47\n",
      "max        999.00   135.00     1.00     6.00    36.50\n",
      "2: black win rate=0.959, num_games=1000, time/game=22.138, rollout=1000, komi=0.0\n",
      "       Unnamed: 0    plys  reward  score   time\n",
      "count       10.00   10.00    10.0  10.00  10.00\n",
      "mean         4.50  136.50     1.0 -48.20  24.91\n",
      "std          3.03   39.71     0.0  25.95   4.70\n",
      "min          0.00   67.00     1.0 -75.50  16.48\n",
      "25%          2.25  122.75     1.0 -65.00  23.62\n",
      "50%          4.50  148.50     1.0 -58.50  26.26\n",
      "75%          6.75  162.00     1.0 -32.75  27.49\n",
      "max          9.00  180.00     1.0  -2.50  30.51\n",
      "0: black win rate=1.0, num_games=10, time/game=26.256\n",
      "       Unnamed: 0    plys  reward   score    time\n",
      "count      100.00  100.00  100.00  100.00  100.00\n",
      "mean        49.50   97.52    0.98  -25.28   26.93\n",
      "std         29.01   48.08    0.20   26.58   10.89\n",
      "min          0.00    2.00   -1.00  -78.00    1.89\n",
      "25%         24.75   81.50    1.00  -39.50   23.09\n",
      "50%         49.50  105.00    1.00  -17.50   29.33\n",
      "75%         74.25  129.25    1.00   -1.00   34.17\n",
      "max         99.00  170.00    1.00    2.00   42.60\n",
      "1: black win rate=0.99, num_games=100, time/game=29.329, rollout=1000, komi=0.0\n",
      "       Unnamed: 0    plys  reward   score    time\n",
      "count      100.00  100.00  100.00  100.00  100.00\n",
      "mean        49.50  102.06    0.96  -18.99    7.76\n",
      "std         29.01   32.74    0.28   19.96    1.47\n",
      "min          0.00   45.00   -1.00  -71.50    4.96\n",
      "25%         24.75   84.50    1.00  -23.75    7.08\n",
      "50%         49.50   99.50    1.00  -11.50    7.70\n",
      "75%         74.25  114.00    1.00   -4.50    8.48\n",
      "max         99.00  260.00    1.00   12.50   16.27\n",
      "4: black win rate=0.98, num_games=100, time/game=7.702, rollout=100, komi=0.5\n"
     ]
    }
   ],
   "source": [
    "show_result('/home/peng_liu/src/tmp/game_result/mcts_vs_random/')"
   ]
  },
  {
   "cell_type": "code",
   "execution_count": 29,
   "metadata": {},
   "outputs": [
    {
     "name": "stdout",
     "output_type": "stream",
     "text": [
      "[0.09043658 0.         0.6326711  0.         0.27689232 0.\n",
      " 0.         0.         0.         0.         0.         0.\n",
      " 0.         0.         0.         0.         0.         0.\n",
      " 0.         0.         0.         0.         0.         0.\n",
      " 0.         0.         0.         0.         0.         0.\n",
      " 0.         0.         0.         0.         0.         0.\n",
      " 0.         0.         0.         0.         0.         0.\n",
      " 0.         0.         0.         0.         0.         0.\n",
      " 0.         0.         0.         0.         0.         0.\n",
      " 0.         0.         0.         0.         0.         0.\n",
      " 0.         0.         0.         0.         0.         0.\n",
      " 0.         0.         0.         0.         0.         0.\n",
      " 0.         0.         0.         0.         0.         0.\n",
      " 0.         0.         0.         0.        ]\n"
     ]
    }
   ],
   "source": [
    "action_space_size = 9 * 9 + 1\n",
    "mcts_dirichlet_alpha = 1.0\n",
    "legal_actions = [0, 2, 4]\n",
    "prior_probabilities = np.zeros(action_space_size, dtype=float)\n",
    "prior_probabilities[legal_actions] = np.random.dirichlet([mcts_dirichlet_alpha] * len(legal_actions))\n",
    "print(prior_probabilities)"
   ]
  }
 ],
 "metadata": {
  "kernelspec": {
   "display_name": "Python 3",
   "language": "python",
   "name": "python3"
  },
  "language_info": {
   "codemirror_mode": {
    "name": "ipython",
    "version": 3
   },
   "file_extension": ".py",
   "mimetype": "text/x-python",
   "name": "python",
   "nbconvert_exporter": "python",
   "pygments_lexer": "ipython3",
   "version": "3.6.3"
  }
 },
 "nbformat": 4,
 "nbformat_minor": 2
}
