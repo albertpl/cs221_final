{
 "cells": [
  {
   "cell_type": "code",
   "execution_count": 1,
   "metadata": {},
   "outputs": [
    {
     "data": {
      "text/html": [
       "<style>#notebook { padding-top:0px !important; } .container { width:100% !important; } .end_space { min-height:0px !important; } </style>"
      ],
      "text/plain": [
       "<IPython.core.display.HTML object>"
      ]
     },
     "metadata": {},
     "output_type": "display_data"
    }
   ],
   "source": [
    "# %load startup\n",
    "import numpy as np\n",
    "from pathlib import Path\n",
    "import time\n",
    "\n",
    "from IPython.core.display import display, HTML\n",
    "display(HTML(\"<style>\"\n",
    "             + \"#notebook { padding-top:0px !important; } \"\n",
    "             + \".container { width:100% !important; } \"\n",
    "             + \".end_space { min-height:0px !important; } \"\n",
    "             + \"</style>\"))\n",
    "\n",
    "import matplotlib.pyplot as plt\n",
    "plt.rcParams['figure.figsize'] = (10.0, 8.0) # set default size of plots\n",
    "plt.rcParams['image.interpolation'] = 'nearest'\n",
    "plt.rcParams['image.cmap'] = 'gray'\n",
    "\n",
    "import pandas as pd\n",
    "pd.options.display.max_colwidth = 100\n",
    "pd.options.display.precision = 2\n",
    "\n",
    "import pprint\n",
    "pp = pprint.PrettyPrinter(indent=4, width=100)\n",
    "\n",
    "import logging\n",
    "logging.basicConfig(level=logging.INFO, format='%(asctime)s %(module)s:%(lineno)d %(funcName)s %(levelname)s %(message)s')"
   ]
  },
  {
   "cell_type": "code",
   "execution_count": 11,
   "metadata": {},
   "outputs": [],
   "source": [
    "from model_config import ModelConfig\n",
    "\n",
    "def show_result(game_result_path):\n",
    "    game_result_path = Path(game_result_path)\n",
    "    for i, csv_file in enumerate(game_result_path.glob('*.csv')):\n",
    "        game_number = csv_file.stem.split('_')[1]\n",
    "        game_result_pd = pd.read_csv(csv_file)\n",
    "        rewards = game_result_pd['reward'].values\n",
    "        win_rate = np.sum(rewards>0)/len(rewards) \n",
    "        median_time = np.median(game_result_pd['time'].values)\n",
    "        game_config_file = game_result_path/f'config_{game_number}.yaml'\n",
    "        if game_config_file.exists():\n",
    "            config = ModelConfig.from_yaml(game_config_file)\n",
    "            print(f'{game_number}: black win rate={win_rate}, '\n",
    "                  f'num_games={len(game_result_pd)}, '\n",
    "                  f'time/game={median_time:.3f}, '\n",
    "                  f'rollout={config.mcts_num_rollout}, '\n",
    "                  f'komi={config.komi}')\n",
    "        else:\n",
    "            print(f'{game_number}: black win rate={win_rate}, '\n",
    "                  f'num_games={len(game_result_pd)}, '\n",
    "                  f'time/game={median_time:.3f}')"
   ]
  },
  {
   "cell_type": "code",
   "execution_count": 15,
   "metadata": {},
   "outputs": [
    {
     "name": "stdout",
     "output_type": "stream",
     "text": [
      "2: black win rate=0.766, num_games=1000, time/game=0.002, rollout=1000, komi=0\n",
      "1: black win rate=0.45, num_games=100, time/game=0.002\n"
     ]
    }
   ],
   "source": [
    "show_result('/home/peng_liu/src/tmp/game_result/random_vs_random/')"
   ]
  },
  {
   "cell_type": "code",
   "execution_count": 17,
   "metadata": {},
   "outputs": [
    {
     "name": "stdout",
     "output_type": "stream",
     "text": [
      "2: black win rate=0.763, num_games=1000, time/game=0.090, rollout=1000, komi=0\n",
      "1: black win rate=0.157, num_games=1000, time/game=0.365\n"
     ]
    }
   ],
   "source": [
    "show_result('/home/peng_liu/src/tmp/game_result/nn_vs_random/')"
   ]
  },
  {
   "cell_type": "code",
   "execution_count": 13,
   "metadata": {},
   "outputs": [
    {
     "name": "stdout",
     "output_type": "stream",
     "text": [
      "2: black win rate=0.959, num_games=1000, time/game=22.138, rollout=1000, komi=0\n",
      "0: black win rate=1.0, num_games=10, time/game=26.256\n",
      "1: black win rate=0.99, num_games=100, time/game=29.329, rollout=1000, komi=0\n"
     ]
    }
   ],
   "source": [
    "show_result('/home/peng_liu/src/tmp/game_result/mcts_vs_random/')"
   ]
  }
 ],
 "metadata": {
  "kernelspec": {
   "display_name": "Python 3",
   "language": "python",
   "name": "python3"
  },
  "language_info": {
   "codemirror_mode": {
    "name": "ipython",
    "version": 3
   },
   "file_extension": ".py",
   "mimetype": "text/x-python",
   "name": "python",
   "nbconvert_exporter": "python",
   "pygments_lexer": "ipython3",
   "version": "3.6.3"
  }
 },
 "nbformat": 4,
 "nbformat_minor": 2
}
