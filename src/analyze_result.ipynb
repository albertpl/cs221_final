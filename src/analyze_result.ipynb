{
 "cells": [
  {
   "cell_type": "code",
   "execution_count": 18,
   "metadata": {},
   "outputs": [
    {
     "data": {
      "text/html": [
       "<style>#notebook { padding-top:0px !important; } .container { width:100% !important; } .end_space { min-height:0px !important; } </style>"
      ],
      "text/plain": [
       "<IPython.core.display.HTML object>"
      ]
     },
     "metadata": {},
     "output_type": "display_data"
    }
   ],
   "source": [
    "# %load startup\n",
    "import numpy as np\n",
    "from pathlib import Path\n",
    "import time\n",
    "\n",
    "from IPython.core.display import display, HTML\n",
    "display(HTML(\"<style>\"\n",
    "             + \"#notebook { padding-top:0px !important; } \"\n",
    "             + \".container { width:100% !important; } \"\n",
    "             + \".end_space { min-height:0px !important; } \"\n",
    "             + \"</style>\"))\n",
    "\n",
    "import matplotlib.pyplot as plt\n",
    "plt.rcParams['figure.figsize'] = (10.0, 8.0) # set default size of plots\n",
    "plt.rcParams['image.interpolation'] = 'nearest'\n",
    "plt.rcParams['image.cmap'] = 'gray'\n",
    "\n",
    "import pandas as pd\n",
    "pd.options.display.max_colwidth = 100\n",
    "pd.options.display.precision = 3\n",
    "\n",
    "import pprint\n",
    "pp = pprint.PrettyPrinter(indent=4, width=100)\n",
    "\n",
    "import logging\n",
    "logging.basicConfig(level=logging.INFO, format='%(asctime)s %(module)s:%(lineno)d %(funcName)s %(levelname)s %(message)s')"
   ]
  },
  {
   "cell_type": "code",
   "execution_count": 19,
   "metadata": {},
   "outputs": [],
   "source": [
    "from model_config import ModelConfig\n",
    "\n",
    "def show_result(game_result_path, verbose=False):\n",
    "    game_result_path = Path(game_result_path)\n",
    "    paths = [(int(f.stem.split('_')[1]), f) for f in (game_result_path.glob('*.csv'))]\n",
    "    paths.sort(key=lambda x: x[0])\n",
    "    for game_number, csv_file in paths:\n",
    "        game_result_pd = pd.read_csv(csv_file)\n",
    "        if 'reward' in game_result_pd:\n",
    "            rewards = game_result_pd['reward'].values\n",
    "            win_rate = np.sum(rewards>0)/len(rewards) \n",
    "        else:\n",
    "            assert 'black_win' in game_result_pd\n",
    "            win_rate = float(np.mean(game_result_pd['black_win'].values))\n",
    "        median_time = np.median(game_result_pd['time'].values)\n",
    "        game_config_file = game_result_path/f'config_{game_number}.yaml'\n",
    "        if game_config_file.exists():\n",
    "            config = ModelConfig.from_yaml(game_config_file)\n",
    "            print(f'{game_number}: B={win_rate}, '\n",
    "                  f'#={len(game_result_pd)}, '\n",
    "                  f'T={median_time:.3f}, '\n",
    "                  f'S={config.mcts_num_rollout}, '\n",
    "                  f'K={config.komi}, '\n",
    "                  f'W={config.weight_root}')\n",
    "        else:\n",
    "            print(f'{game_number}: B={win_rate}, '\n",
    "                  f'#={len(game_result_pd)}, '\n",
    "                  f'T={median_time:.3f}')\n",
    "        if verbose:\n",
    "            print(game_result_pd.describe())"
   ]
  },
  {
   "cell_type": "code",
   "execution_count": 15,
   "metadata": {},
   "outputs": [
    {
     "name": "stdout",
     "output_type": "stream",
     "text": [
      "2: black win rate=0.766, num_games=1000, time/game=0.002, rollout=1000, komi=0\n",
      "1: black win rate=0.45, num_games=100, time/game=0.002\n"
     ]
    }
   ],
   "source": [
    "show_result('/home/peng_liu/src/tmp/game_result/random_vs_random/')"
   ]
  },
  {
   "cell_type": "code",
   "execution_count": 53,
   "metadata": {},
   "outputs": [
    {
     "name": "stdout",
     "output_type": "stream",
     "text": [
      "1: B=0.157, #=1000, T=0.365\n",
      "2: B=0.763, #=1000, T=0.090, S=1000, K=0.0, W=/tmp/test_pg/iter_1/\n",
      "3: B=0.495, #=1000, T=0.306, S=1000, K=0.5, W=/tmp/test_pg/start/\n",
      "4: B=0.478, #=1000, T=0.305, S=1000, K=0.5, W=/tmp/test_pg/1/\n",
      "5: B=0.465, #=1000, T=0.301, S=1000, K=0.5, W=/tmp/test_pg/2/\n",
      "6: B=0.455, #=1000, T=0.299, S=1000, K=0.5, W=/tmp/test_pg/3/\n",
      "7: B=0.441, #=1000, T=0.299, S=1000, K=0.5, W=/tmp/test_pg/4/\n",
      "8: B=0.427, #=1000, T=0.312, S=1000, K=0.5, W=/tmp/test_pg/5/\n",
      "9: B=0.479, #=1000, T=0.307, S=1000, K=0.5, W=/tmp/test_pg/6/\n"
     ]
    }
   ],
   "source": [
    "show_result('/home/peng_liu/src/tmp/game_result/nn_vs_random/')"
   ]
  },
  {
   "cell_type": "code",
   "execution_count": 54,
   "metadata": {},
   "outputs": [
    {
     "name": "stdout",
     "output_type": "stream",
     "text": [
      "0: B=1.0, #=10, T=26.256\n",
      "1: B=0.99, #=100, T=29.329, S=1000, K=0.0, W=\n",
      "2: B=0.959, #=1000, T=22.138, S=1000, K=0.0, W=\n",
      "4: B=0.98, #=100, T=7.702, S=100, K=0.5, W=\n"
     ]
    }
   ],
   "source": [
    "show_result('/home/peng_liu/src/tmp/game_result/mcts_vs_random/')"
   ]
  },
  {
   "cell_type": "code",
   "execution_count": 55,
   "metadata": {},
   "outputs": [
    {
     "name": "stdout",
     "output_type": "stream",
     "text": [
      "0: B=0.0, #=100, T=306.842\n",
      "1: B=0.156, #=1000, T=35.106, S=1000, K=0.0, W=\n",
      "2: B=0.16, #=1000, T=39.196, S=1000, K=0.0, W=\n",
      "4: B=0.01, #=100, T=11.507, S=100, K=0.5, W=\n",
      "5: B=0.0, #=10, T=42.172, S=500, K=0.5, W=\n",
      "6: B=0.031, #=1000, T=75.218, S=1000, K=0.5, W=/tmp/test_nn_guided_mcts/4/\n",
      "7: B=0.173, #=1000, T=83.536, S=1000, K=0.0, W=\n"
     ]
    }
   ],
   "source": [
    "show_result('/home/peng_liu/src/tmp/game_result/mcts_vs_pachi/')"
   ]
  },
  {
   "cell_type": "code",
   "execution_count": 20,
   "metadata": {},
   "outputs": [
    {
     "name": "stdout",
     "output_type": "stream",
     "text": [
      "1: B=0.0, #=10, T=151.465, S=500, K=0.5, W=/tmp/test_nn_guided_mcts/1/\n",
      "2: B=0.0, #=10, T=138.947, S=500, K=0.5, W=/tmp/test_nn_guided_mcts/2/\n",
      "3: B=0.0, #=10, T=40.777, S=100, K=0.5, W=/tmp/test_nn_guided_mcts/1/\n",
      "4: B=0.1, #=10, T=35.743, S=100, K=0.5, W=/tmp/test_nn_guided_mcts/2/\n",
      "5: B=0.0, #=10, T=39.372, S=100, K=0.5, W=/tmp/test_nn_guided_mcts/3/\n",
      "6: B=0.0, #=10, T=42.851, S=100, K=0.5, W=/tmp/test_nn_guided_mcts/4/\n",
      "7: B=0.0, #=10, T=42.371, S=100, K=0.5, W=/tmp/test_nn_guided_mcts/5/\n",
      "8: B=0.0, #=10, T=41.382, S=100, K=0.5, W=/tmp/test_nn_guided_mcts/6/\n",
      "9: B=0.0, #=10, T=36.232, S=100, K=0.5, W=/tmp/test_nn_guided_mcts/7/\n",
      "10: B=0.0, #=10, T=33.844, S=100, K=0.5, W=/tmp/test_nn_guided_mcts/8/\n",
      "11: B=0.0, #=10, T=33.830, S=100, K=0.5, W=/tmp/test_nn_guided_mcts/9/\n",
      "12: B=0.0, #=10, T=36.341, S=100, K=0.5, W=/tmp/test_nn_guided_mcts/10/\n",
      "13: B=0.0, #=10, T=159.209, S=500, K=0.5, W=start\n"
     ]
    }
   ],
   "source": [
    "show_result('/home/peng_liu/src/tmp/game_result/nn_guided_mcts_vs_pachi/')"
   ]
  }
 ],
 "metadata": {
  "kernelspec": {
   "display_name": "Python 3",
   "language": "python",
   "name": "python3"
  },
  "language_info": {
   "codemirror_mode": {
    "name": "ipython",
    "version": 3
   },
   "file_extension": ".py",
   "mimetype": "text/x-python",
   "name": "python",
   "nbconvert_exporter": "python",
   "pygments_lexer": "ipython3",
   "version": "3.6.3"
  }
 },
 "nbformat": 4,
 "nbformat_minor": 2
}
